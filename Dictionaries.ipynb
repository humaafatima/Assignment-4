{
  "nbformat": 4,
  "nbformat_minor": 0,
  "metadata": {
    "colab": {
      "provenance": [],
      "authorship_tag": "ABX9TyNB4su1P7Dg7J++w0qNbCC/",
      "include_colab_link": true
    },
    "kernelspec": {
      "name": "python3",
      "display_name": "Python 3"
    },
    "language_info": {
      "name": "python"
    }
  },
  "cells": [
    {
      "cell_type": "markdown",
      "metadata": {
        "id": "view-in-github",
        "colab_type": "text"
      },
      "source": [
        "<a href=\"https://colab.research.google.com/github/humaafatima/Assignment-4/blob/main/Dictionaries.ipynb\" target=\"_parent\"><img src=\"https://colab.research.google.com/assets/colab-badge.svg\" alt=\"Open In Colab\"/></a>"
      ]
    },
    {
      "cell_type": "code",
      "execution_count": 1,
      "metadata": {
        "colab": {
          "base_uri": "https://localhost:8080/"
        },
        "id": "xK3SkmZ4LZxJ",
        "outputId": "323513ba-85cc-4f64-c0a2-b1c574f58249"
      },
      "outputs": [
        {
          "output_type": "stream",
          "name": "stdout",
          "text": [
            "Count Numbers\n",
            "Enter a number (or 'exit' to quit): 2\n",
            "Enter a number (or 'exit' to quit): 4\n",
            "Enter a number (or 'exit' to quit): exit\n",
            "\n",
            "Number counts:\n",
            "2 appears 1 times\n",
            "4 appears 1 times\n"
          ]
        }
      ],
      "source": [
        "print(\"Count Numbers\")\n",
        "\n",
        "def count_numbers():\n",
        "    count_dict = {}\n",
        "    while True:\n",
        "        user_input = input(\"Enter a number (or 'exit' to quit): \")\n",
        "        if user_input.lower() == \"exit\":\n",
        "            break\n",
        "        if user_input.isdigit():\n",
        "            num = int(user_input)\n",
        "            count_dict[num] = count_dict.get(num, 0) + 1\n",
        "        else:\n",
        "            print(\"Invalid input. Please enter a number or 'exit'.\")\n",
        "    return count_dict\n",
        "\n",
        "def display_counts(count_dict):\n",
        "    print(\"\\nNumber counts:\")\n",
        "    for key, value in count_dict.items():\n",
        "        print(f\"{key} appears {value} times\")\n",
        "\n",
        "if __name__ == \"__main__\":\n",
        "    counts = count_numbers()\n",
        "    display_counts(counts)\n"
      ]
    },
    {
      "cell_type": "code",
      "source": [
        "print(\"Phonebook\")\n",
        "\n",
        "def add_contact(phonebook):\n",
        "    name = input(\"Enter contact name: \")\n",
        "    number = input(\"Enter contact no: \")\n",
        "\n",
        "    if name in phonebook:\n",
        "        print(f\"{name} already exists in phonebook\")\n",
        "    else:\n",
        "        phonebook[name] = number\n",
        "        print(f\"{name} added to phonebook\")\n",
        "\n",
        "def search_contact(phonebook):\n",
        "    name = input(\"Enter contact name to search: \")\n",
        "    if name in phonebook:\n",
        "        print(f\"{name}'s number is {phonebook[name]}\")\n",
        "    else:\n",
        "        print(f\"{name} not found in the phonebook.\")\n",
        "\n",
        "def delete_contact(phonebook):\n",
        "    name = input(\"Enter contact name to delete: \")\n",
        "    if name in phonebook:\n",
        "        del phonebook[name]\n",
        "        print(f\"{name} deleted from the phonebook\")\n",
        "    else:\n",
        "        print(f\"{name} not found in phonebook.\")\n",
        "\n",
        "def display_contacts(phonebook):\n",
        "    if phonebook:\n",
        "        print(\"\\nPhonebook contact list:\")\n",
        "        for name, number in phonebook.items():\n",
        "            print(f\"{name}: {number}\")\n",
        "    else:\n",
        "        print(\"Phonebook is empty\")\n",
        "\n",
        "if __name__ == \"__main__\":\n",
        "    phonebook = {}\n",
        "\n",
        "    while True:\n",
        "        print(\"\\nPhonebook Menu\")\n",
        "        print(\"1. Add Contact\")\n",
        "        print(\"2. Search Contact\")\n",
        "        print(\"3. Delete Contact\")\n",
        "        print(\"4. Display Contacts\")\n",
        "        print(\"5. Exit\")\n",
        "\n",
        "        choice = input(\"Enter your choice (1-5): \")\n",
        "        if choice == \"1\":\n",
        "            add_contact(phonebook)\n",
        "        elif choice == \"2\":\n",
        "            search_contact(phonebook)\n",
        "        elif choice == \"3\":\n",
        "            delete_contact(phonebook)\n",
        "        elif choice == \"4\":\n",
        "            display_contacts(phonebook)\n",
        "        elif choice == \"5\":\n",
        "            print(\"Exiting phonebook. Goodbye!\")\n",
        "            break\n",
        "        else:\n",
        "            print(\"Invalid choice. Please enter a number between 1 and 5.\")\n",
        "6\n"
      ],
      "metadata": {
        "colab": {
          "base_uri": "https://localhost:8080/"
        },
        "id": "Mc0v9DBiLpkc",
        "outputId": "d3b1f2e5-e198-4050-9a54-d25bb0e992fc"
      },
      "execution_count": 4,
      "outputs": [
        {
          "output_type": "stream",
          "name": "stdout",
          "text": [
            "Phonebook\n",
            "\n",
            "Phonebook Menu\n",
            "1. Add Contact\n",
            "2. Search Contact\n",
            "3. Delete Contact\n",
            "4. Display Contacts\n",
            "5. Exit\n",
            "Enter your choice (1-5): 4\n",
            "Phonebook is empty\n",
            "\n",
            "Phonebook Menu\n",
            "1. Add Contact\n",
            "2. Search Contact\n",
            "3. Delete Contact\n",
            "4. Display Contacts\n",
            "5. Exit\n",
            "Enter your choice (1-5): \n",
            "Invalid choice. Please enter a number between 1 and 5.\n",
            "\n",
            "Phonebook Menu\n",
            "1. Add Contact\n",
            "2. Search Contact\n",
            "3. Delete Contact\n",
            "4. Display Contacts\n",
            "5. Exit\n",
            "Enter your choice (1-5): exit\n",
            "Invalid choice. Please enter a number between 1 and 5.\n",
            "\n",
            "Phonebook Menu\n",
            "1. Add Contact\n",
            "2. Search Contact\n",
            "3. Delete Contact\n",
            "4. Display Contacts\n",
            "5. Exit\n",
            "Enter your choice (1-5): 1\n",
            "Enter contact name: shahid\n",
            "Enter contact no: 567\n",
            "shahid added to phonebook\n",
            "\n",
            "Phonebook Menu\n",
            "1. Add Contact\n",
            "2. Search Contact\n",
            "3. Delete Contact\n",
            "4. Display Contacts\n",
            "5. Exit\n",
            "Enter your choice (1-5): 1\n",
            "Enter contact name: ali\n",
            "Enter contact no: 234\n",
            "ali added to phonebook\n",
            "\n",
            "Phonebook Menu\n",
            "1. Add Contact\n",
            "2. Search Contact\n",
            "3. Delete Contact\n",
            "4. Display Contacts\n",
            "5. Exit\n",
            "Enter your choice (1-5): 4\n",
            "\n",
            "Phonebook contact list:\n",
            "shahid: 567\n",
            "ali: 234\n",
            "\n",
            "Phonebook Menu\n",
            "1. Add Contact\n",
            "2. Search Contact\n",
            "3. Delete Contact\n",
            "4. Display Contacts\n",
            "5. Exit\n",
            "Enter your choice (1-5): 5\n",
            "Exiting phonebook. Goodbye!\n"
          ]
        }
      ]
    },
    {
      "cell_type": "code",
      "source": [
        "print(\"Pop-up Shop\")\n",
        "\n",
        "def calculate_total_cost():\n",
        "    fruit_price = {\n",
        "        \"apple\": 5.0,\n",
        "        \"mango\": 15.0,\n",
        "        \"kiwi\": 8.0,\n",
        "        \"pear\": 12.0,\n",
        "        \"banana\": 6.0,\n",
        "        \"orange\": 10.0  # fixed spelling from \"ornge\"\n",
        "    }\n",
        "\n",
        "    total_cost = 0\n",
        "\n",
        "    for fruit, price in fruit_price.items():\n",
        "        while True:\n",
        "            try:\n",
        "                quantity = int(input(f\"How many {fruit}s do you want? \"))\n",
        "                if quantity < 0:\n",
        "                    print(\"Invalid input. Please enter a non-negative number.\")\n",
        "                    continue  # fixed typo from \"contiune\"\n",
        "                total_cost += price * quantity\n",
        "                break\n",
        "            except ValueError:\n",
        "                print(\"Invalid input. Please enter a valid number.\")\n",
        "\n",
        "    print(f\"\\nYour total cost is: ${total_cost:.2f}\")\n",
        "\n",
        "if __name__ == \"__main__\":\n",
        "    calculate_total_cost()\n"
      ],
      "metadata": {
        "colab": {
          "base_uri": "https://localhost:8080/"
        },
        "id": "-oAB7V5EUUFb",
        "outputId": "93d4a782-79e5-4581-9042-89a0c76c6247"
      },
      "execution_count": 5,
      "outputs": [
        {
          "output_type": "stream",
          "name": "stdout",
          "text": [
            "Pop-up Shop\n",
            "How many apples do you want? 8\n",
            "How many mangos do you want? 9\n",
            "How many kiwis do you want? 5\n",
            "How many pears do you want? 3\n",
            "How many bananas do you want? 12\n",
            "How many oranges do you want? 7\n",
            "\n",
            "Your total cost is: $393.00\n"
          ]
        }
      ]
    },
    {
      "cell_type": "code",
      "source": [
        "print(\"Powerful Password\")\n",
        "import hashlib\n",
        "\n",
        "def hash_password(password):\n",
        "  return hashlib.sha256(password.encode()).hexdigest()\n",
        "\n",
        "stored_logins = {\n",
        "      \"user@example.com\": hash_password(\"password123\"),\n",
        "      \"admin@example.com\": hash_password(\"adminpass\")\n",
        "  }\n",
        "\n",
        "def login(email, password):\n",
        "  if email in stored_logins:\n",
        "    return stored_logins[email] == hash_password(password)\n",
        "\n",
        "if __name__ == \"__main__\":\n",
        "    email = input(\"Enter your email: \")\n",
        "    password = input(\"Enter your password\")\n",
        "\n",
        "if login( email, password):\n",
        " print(\"Login successful\")\n",
        "else:\n",
        "  print(\"Invalid email or password\")"
      ],
      "metadata": {
        "colab": {
          "base_uri": "https://localhost:8080/"
        },
        "id": "v8FwxhpxV9Kk",
        "outputId": "7d018c91-c3e3-42cb-de64-57f6b253c59d"
      },
      "execution_count": 7,
      "outputs": [
        {
          "output_type": "stream",
          "name": "stdout",
          "text": [
            "Powerful Password\n",
            "Enter your email: user@example.com\n",
            "Enter your passwordpassword123\n",
            "Login successful\n"
          ]
        }
      ]
    }
  ]
}