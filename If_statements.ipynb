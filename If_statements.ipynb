{
  "nbformat": 4,
  "nbformat_minor": 0,
  "metadata": {
    "colab": {
      "provenance": [],
      "authorship_tag": "ABX9TyPNnXLMR/JunDys0njDBw3c",
      "include_colab_link": true
    },
    "kernelspec": {
      "name": "python3",
      "display_name": "Python 3"
    },
    "language_info": {
      "name": "python"
    }
  },
  "cells": [
    {
      "cell_type": "markdown",
      "metadata": {
        "id": "view-in-github",
        "colab_type": "text"
      },
      "source": [
        "<a href=\"https://colab.research.google.com/github/humaafatima/Assignment-4/blob/main/If_statements.ipynb\" target=\"_parent\"><img src=\"https://colab.research.google.com/assets/colab-badge.svg\" alt=\"Open In Colab\"/></a>"
      ]
    },
    {
      "cell_type": "code",
      "execution_count": 5,
      "metadata": {
        "colab": {
          "base_uri": "https://localhost:8080/"
        },
        "collapsed": true,
        "id": "rXAmSczxnZpx",
        "outputId": "52ca510d-3db5-423d-ccdc-4059becc6326"
      },
      "outputs": [
        {
          "output_type": "stream",
          "name": "stdout",
          "text": [
            "If Statements\n",
            "Here are 20 even numbers 0\n",
            "Here are 20 even numbers 2\n",
            "Here are 20 even numbers 4\n",
            "Here are 20 even numbers 6\n",
            "Here are 20 even numbers 8\n",
            "Here are 20 even numbers 10\n",
            "Here are 20 even numbers 12\n",
            "Here are 20 even numbers 14\n",
            "Here are 20 even numbers 16\n",
            "Here are 20 even numbers 18\n",
            "Here are 20 even numbers 20\n",
            "Here are 20 even numbers 22\n",
            "Here are 20 even numbers 24\n",
            "Here are 20 even numbers 26\n",
            "Here are 20 even numbers 28\n",
            "Here are 20 even numbers 30\n",
            "Here are 20 even numbers 32\n",
            "Here are 20 even numbers 34\n",
            "Here are 20 even numbers 36\n",
            "Here are 20 even numbers 38\n",
            "Here are 20 even numbers 40\n",
            "Here are 20 even numbers 42\n",
            "Here are 20 even numbers 44\n",
            "Here are 20 even numbers 46\n",
            "Here are 20 even numbers 48\n",
            "Here are 20 even numbers 50\n",
            "Here are 20 even numbers 52\n",
            "Here are 20 even numbers 54\n",
            "Here are 20 even numbers 56\n",
            "Here are 20 even numbers 58\n",
            "Here are 20 even numbers 60\n",
            "Here are 20 even numbers 62\n",
            "Here are 20 even numbers 64\n",
            "Here are 20 even numbers 66\n",
            "Here are 20 even numbers 68\n",
            "Here are 20 even numbers 70\n",
            "Here are 20 even numbers 72\n",
            "Here are 20 even numbers 74\n",
            "Here are 20 even numbers 76\n",
            "Here are 20 even numbers 78\n"
          ]
        }
      ],
      "source": [
        "print(\"If Statements\")\n",
        "\n",
        "def even():\n",
        "  for i in range(40):\n",
        "    even: int = i * 2\n",
        "    print(\"Here are 20 even numbers\", even)\n",
        "if __name__ == \"__main__\":\n",
        "      even()\n"
      ]
    },
    {
      "cell_type": "code",
      "source": [
        "print(\"International Voting Age\")\n",
        "Peturksbouipo : int = 16\n",
        "Stanlau : int = 25\n",
        "Mayengua : int = 48\n",
        "\n",
        "age:int = int(input(\"How old are you?\"))\n",
        "def main():\n",
        "\n",
        "  if age >= Peturksbouipo:\n",
        "    print(f'your age is {age}, you are eligible to vote in Peturksbouipo')\n",
        "  else:\n",
        "    print(f'Your age is {age}, you are not eligible to vote in Peturksbouipo')\n",
        "  if age >= Stanlau:\n",
        "    print((f'Your age is {age}, you are elegible to vote in Stanlau'))\n",
        "  else:\n",
        "      print(f'Your age is {age}, you are not elegible to vote in Stanlau')\n",
        "  if age >= Mayengua:\n",
        "    print((f'Your age is {age}, you are elegible to vote Mayengua'))\n",
        "  else:\n",
        "    print(f'Your age is {age}, you are not elegible to vote in Mayengua')\n",
        "\n",
        "if __name__ == \"__main__\":\n",
        "      main()\n",
        "\n",
        "\n"
      ],
      "metadata": {
        "colab": {
          "base_uri": "https://localhost:8080/"
        },
        "collapsed": true,
        "id": "GVfLivNwpOl2",
        "outputId": "ea89c8b2-9044-477a-e0cd-76a0e27a310f"
      },
      "execution_count": 13,
      "outputs": [
        {
          "output_type": "stream",
          "name": "stdout",
          "text": [
            "International Voting Age\n",
            "How old are you?27\n",
            "your age is 27, you are eligible to vote in Peturksbouipo\n",
            "Your age is 27, you are elegible to vote in Stanlau\n",
            "Your age is 27, you are not elegible to vote in Mayengua\n"
          ]
        }
      ]
    },
    {
      "cell_type": "code",
      "source": [
        "def leap():\n",
        "    year = int(input(\"Enter a year: \"))\n",
        "    if year % 4 == 0:\n",
        "        if year % 100 == 0:\n",
        "            if year % 400 == 0:\n",
        "                print(f'{year} is a leap year')\n",
        "            else:\n",
        "                print(f'{year} is not a leap year')\n",
        "        else:\n",
        "            print(f'{year} is a leap year')\n",
        "    else:\n",
        "        print(f'{year} is not a leap year')\n",
        "\n",
        "if __name__ == \"__main__\":\n",
        "    leap()\n",
        "\n",
        "\n"
      ],
      "metadata": {
        "colab": {
          "base_uri": "https://localhost:8080/"
        },
        "id": "svpzb0ZBylV_",
        "outputId": "ffe81616-ca71-4aa6-d573-fb32b470e88b"
      },
      "execution_count": 15,
      "outputs": [
        {
          "output_type": "stream",
          "name": "stdout",
          "text": [
            "Enter a year: 1984\n",
            "1984 is a leap year\n"
          ]
        }
      ]
    },
    {
      "cell_type": "code",
      "source": [
        "print(\"tall_enough_to_ride\")\n",
        "min_height = 50\n",
        "\n",
        "def main():\n",
        "    user = int(input(\"How tall are you? \"))\n",
        "    if user >= min_height:\n",
        "        print(\"You are tall enough to ride\")\n",
        "    else:\n",
        "        print(\"You are not tall enough to ride, next year can be your chance\")\n",
        "\n",
        "if __name__ == \"__main__\":\n",
        "    main()\n",
        "\n",
        "\n"
      ],
      "metadata": {
        "colab": {
          "base_uri": "https://localhost:8080/"
        },
        "collapsed": true,
        "id": "FZJCtKVN0sYl",
        "outputId": "daec6381-cdfe-421a-a997-160643ce3222"
      },
      "execution_count": 17,
      "outputs": [
        {
          "output_type": "stream",
          "name": "stdout",
          "text": [
            "tall_enough_to_ride\n",
            "How tall are you? 14\n",
            "You are not tall enough to ride, next year can be your chance\n"
          ]
        }
      ]
    },
    {
      "cell_type": "code",
      "source": [
        "import random\n",
        "\n",
        "def main():\n",
        "    for i in range(10):\n",
        "        num: int = random.randint(1, 100)\n",
        "        print(num)\n",
        "\n",
        "if __name__ == \"__main__\":\n",
        "    main()\n",
        "\n"
      ],
      "metadata": {
        "colab": {
          "base_uri": "https://localhost:8080/"
        },
        "id": "yDz9mdIbDbjI",
        "outputId": "ebd745c3-83f9-466c-ef00-8d5265bc7a68"
      },
      "execution_count": 22,
      "outputs": [
        {
          "output_type": "stream",
          "name": "stdout",
          "text": [
            "70\n",
            "31\n",
            "63\n",
            "28\n",
            "98\n",
            "7\n",
            "75\n",
            "2\n",
            "29\n",
            "65\n"
          ]
        }
      ]
    }
  ]
}