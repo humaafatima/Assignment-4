{
  "nbformat": 4,
  "nbformat_minor": 0,
  "metadata": {
    "colab": {
      "provenance": [],
      "authorship_tag": "ABX9TyMTXrJISTLlbSQ7CWFjuELo",
      "include_colab_link": true
    },
    "kernelspec": {
      "name": "python3",
      "display_name": "Python 3"
    },
    "language_info": {
      "name": "python"
    }
  },
  "cells": [
    {
      "cell_type": "markdown",
      "metadata": {
        "id": "view-in-github",
        "colab_type": "text"
      },
      "source": [
        "<a href=\"https://colab.research.google.com/github/humaafatima/Assignment-4/blob/main/Expressions.ipynb\" target=\"_parent\"><img src=\"https://colab.research.google.com/assets/colab-badge.svg\" alt=\"Open In Colab\"/></a>"
      ]
    },
    {
      "cell_type": "code",
      "execution_count": 1,
      "metadata": {
        "colab": {
          "base_uri": "https://localhost:8080/"
        },
        "id": "m8qaTWysIlXx",
        "outputId": "b8d5ce18-b7ef-41ba-f457-9a8bf4b2db84"
      },
      "outputs": [
        {
          "output_type": "stream",
          "name": "stdout",
          "text": [
            "dice1 in main() start as :10\n",
            "total of two dices: 9\n",
            "total of two dices: 3\n",
            "total of two dices: 11\n",
            "dice1 in main() is + str(dice1)\n"
          ]
        }
      ],
      "source": [
        "import random\n",
        "\n",
        "def roll_dice():\n",
        "    dice1: int = random.randint(1,6)\n",
        "    dice2: int = random.randint(1,6)\n",
        "    total: int =  dice1 + dice2\n",
        "    print(f'total of two dices: {total}')\n",
        "\n",
        "def main():\n",
        "        dice1: int = 10\n",
        "        print(\"dice1 in main() start as :\" + str(dice1))\n",
        "        roll_dice()\n",
        "        roll_dice()\n",
        "        roll_dice()\n",
        "        print(\"dice1 in main() is + str(dice1)\")\n",
        "\n",
        "if __name__ == \"__main__\":\n",
        "        main()"
      ]
    },
    {
      "cell_type": "code",
      "source": [
        "print(\"Step2 _e=mc2.py\")\n",
        "\n",
        "def energy():\n",
        "    c: float = 299792458\n",
        "    m: float = float(input(\"Enter kilos of mass: \"))\n",
        "    print(\"e = m * C^2...\")\n",
        "    print(\"Mass = \" + str(m) + \"kg\")\n",
        "    print(\"c = \" + str(c) + \" m/s\")\n",
        "    e = m * c ** 2\n",
        "    print(\"e = \" + str(e) + \" joules\")\n",
        "\n",
        "if __name__ == \"__main__\":\n",
        "    energy()\n",
        "\n",
        "\n"
      ],
      "metadata": {
        "colab": {
          "base_uri": "https://localhost:8080/"
        },
        "id": "c_hNGMlgJO0u",
        "outputId": "172cc38b-a9dd-43e8-b25a-839172cfa341"
      },
      "execution_count": 3,
      "outputs": [
        {
          "output_type": "stream",
          "name": "stdout",
          "text": [
            "Step2 _e=mc2.py\n",
            "Enter kilos of mass: 78\n",
            "e = m * C^2...\n",
            "Mass = 78.0kg\n",
            "c = 299792458 m/s\n",
            "e = 7.010290394147177e+18 joules\n"
          ]
        }
      ]
    },
    {
      "cell_type": "code",
      "source": [
        "print(\"feet to inches\")\n",
        "\n",
        "inch: int = 12\n",
        "\n",
        "def foot():\n",
        "    foot: int = int(input(\"Enter feet and I will convert it into inches\"))\n",
        "    print(f'There are {inch + foot} inches in {foot} feet.')\n",
        "\n",
        "if __name__ == \"__main__\":\n",
        " foot()\n",
        "\n",
        "\n"
      ],
      "metadata": {
        "colab": {
          "base_uri": "https://localhost:8080/"
        },
        "id": "SxaC-n5AJb40",
        "outputId": "34a1e075-621a-491b-a26b-e81bd6e973ff"
      },
      "execution_count": 4,
      "outputs": [
        {
          "output_type": "stream",
          "name": "stdout",
          "text": [
            "feet to inches\n",
            "Enter feet and I will convert it into inches34\n",
            "There are 46 inches in 34 feet.\n"
          ]
        }
      ]
    },
    {
      "cell_type": "code",
      "source": [
        "import math\n",
        "print(\"Pythagorean Theoram\")\n",
        "\n",
        "def triangle():\n",
        "    ab: float = float(input(\"Enter the length of the side ab\"))\n",
        "    ac: float = float(input(\"Enter the length of the side ac\"))\n",
        "    bc: float = math.sqrt(ab**2 + ac**2)\n",
        "    print(f'The length of bc (the hypothesis is : {bc})')\n",
        "\n",
        "if __name__ == \"__main__\":\n",
        " triangle()\n",
        ""
      ],
      "metadata": {
        "colab": {
          "base_uri": "https://localhost:8080/"
        },
        "id": "g_PELbgpJkz2",
        "outputId": "f6513cf7-fb22-4e99-d4dd-3e9565176cba"
      },
      "execution_count": 5,
      "outputs": [
        {
          "output_type": "stream",
          "name": "stdout",
          "text": [
            "Pythagorean Theoram\n",
            "Enter the length of the side ab3\n",
            "Enter the length of the side ac5\n",
            "The length of bc (the hypothesis is : 5.830951894845301)\n"
          ]
        }
      ]
    },
    {
      "cell_type": "code",
      "source": [
        "print(\"Remainder_Division\")\n",
        "\n",
        "def remainder():\n",
        "     num1: int = int(input(\"Please enter an integer to be divided: \"))\n",
        "     num2: int = int(input(\"Please enter an integer to divide by: \"))\n",
        "\n",
        "     quotient: int = num1 // num2\n",
        "     remainder: int = num1 % num2\n",
        "\n",
        "     print(\"The result of this division is \" + str(quotient) + \" with a remainder of \" + str(remainder))\n",
        "\n",
        "\n",
        "if __name__ == '__main__':\n",
        "    remainder()"
      ],
      "metadata": {
        "colab": {
          "base_uri": "https://localhost:8080/"
        },
        "id": "kMrkSW_NJrVj",
        "outputId": "5967594b-b02d-44e2-b81b-b5eff6af323a"
      },
      "execution_count": 6,
      "outputs": [
        {
          "output_type": "stream",
          "name": "stdout",
          "text": [
            "Remainder_Division\n",
            "Please enter an integer to be divided: 4\n",
            "Please enter an integer to divide by: 6\n",
            "The result of this division is 0 with a remainder of 4\n"
          ]
        }
      ]
    },
    {
      "cell_type": "code",
      "source": [
        "print(\"Roll Dice\")\n",
        "import random\n",
        "\n",
        "\n",
        "def dice():\n",
        "\n",
        "    die1: int = random.randint(1,6)\n",
        "    die2: int = random.randint(1,6)\n",
        "    total: int = die1 + die2\n",
        "\n",
        "    print(\"First die:\", die1)\n",
        "    print(\"Second die:\", die2)\n",
        "    print(\"Total of two dice:\", total)\n",
        "\n",
        "\n",
        "\n",
        "if __name__ == '__main__':\n",
        "    dice()"
      ],
      "metadata": {
        "colab": {
          "base_uri": "https://localhost:8080/"
        },
        "id": "Pv5YplJ2J3Ay",
        "outputId": "ffcf188d-f992-4197-fd9b-235a82cdba52"
      },
      "execution_count": 7,
      "outputs": [
        {
          "output_type": "stream",
          "name": "stdout",
          "text": [
            "Roll Dice\n",
            "First die: 2\n",
            "Second die: 5\n",
            "Total of two dice: 7\n"
          ]
        }
      ]
    },
    {
      "cell_type": "code",
      "source": [
        "print(\"seconds in year\")\n",
        "\n",
        "days_in_year: int = 365\n",
        "hours_per_day: int = 24\n",
        "minutes_per_hour: int = 60\n",
        "seconds_per_hour: int = 60\n",
        "\n",
        "def seconds():\n",
        "    print(f'There are {days_in_year * hours_per_day * minutes_per_hour * seconds_per_hour}')\n",
        "\n",
        "if __name__ == '__main__':\n",
        "    seconds()"
      ],
      "metadata": {
        "colab": {
          "base_uri": "https://localhost:8080/"
        },
        "id": "JCgqEWj9J8FV",
        "outputId": "66d20c26-aff2-4d1c-f068-bc509521809b"
      },
      "execution_count": 8,
      "outputs": [
        {
          "output_type": "stream",
          "name": "stdout",
          "text": [
            "seconds in year\n",
            "There are 31536000\n"
          ]
        }
      ]
    },
    {
      "cell_type": "code",
      "source": [
        "print(\"Tiny Mad Lib\")\n",
        "\n",
        "def mad_lib():\n",
        "    noun: str = str(input(\"Enter a noun \"))\n",
        "    adjective: str = str(input(\"Enter an adjective \"))\n",
        "    verb: str = str(input(\"Enter a verb \"))\n",
        "    adverb: str = str(input(\"Enter an adverb \"))\n",
        "    print(f'Do you {verb} your {adjective} {noun} {adverb}')\n",
        "\n",
        "if __name__ == '__main__':\n",
        "    mad_lib()"
      ],
      "metadata": {
        "colab": {
          "base_uri": "https://localhost:8080/"
        },
        "id": "VGC-AvlSKAWp",
        "outputId": "302ba3d2-875e-4bf3-f8a8-69de617f2b45"
      },
      "execution_count": 9,
      "outputs": [
        {
          "output_type": "stream",
          "name": "stdout",
          "text": [
            "Tiny Mad Lib\n",
            "Enter a noun fareha\n",
            "Enter an adjective mad\n",
            "Enter a verb busy\n",
            "Enter an adverb badly\n",
            "Do you busy your mad fareha badly\n"
          ]
        }
      ]
    }
  ]
}