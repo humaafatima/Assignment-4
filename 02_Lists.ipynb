{
  "nbformat": 4,
  "nbformat_minor": 0,
  "metadata": {
    "colab": {
      "provenance": [],
      "authorship_tag": "ABX9TyMCen0JhICDkkwZXn3Z65u8",
      "include_colab_link": true
    },
    "kernelspec": {
      "name": "python3",
      "display_name": "Python 3"
    },
    "language_info": {
      "name": "python"
    }
  },
  "cells": [
    {
      "cell_type": "markdown",
      "metadata": {
        "id": "view-in-github",
        "colab_type": "text"
      },
      "source": [
        "<a href=\"https://colab.research.google.com/github/humaafatima/Assignment-4/blob/main/02_Lists.ipynb\" target=\"_parent\"><img src=\"https://colab.research.google.com/assets/colab-badge.svg\" alt=\"Open In Colab\"/></a>"
      ]
    },
    {
      "cell_type": "code",
      "execution_count": 1,
      "metadata": {
        "colab": {
          "base_uri": "https://localhost:8080/"
        },
        "id": "J0BHoALlK1XU",
        "outputId": "926453b4-211e-43e6-8818-53943144719b"
      },
      "outputs": [
        {
          "output_type": "stream",
          "name": "stdout",
          "text": [
            "Add numbers\n",
            "15\n"
          ]
        }
      ],
      "source": [
        "print(\"Add numbers\")\n",
        "\n",
        "def add_number(numbers)->int:\n",
        " num: int = 0\n",
        " for i in numbers:\n",
        "   num += i\n",
        " return num\n",
        "\n",
        "def main():\n",
        "   numbers: list[int] = [1,2,3,4,5]\n",
        "   sum = add_number(numbers)\n",
        "   print(sum)\n",
        "\n",
        "if __name__ == \"__main__\":\n",
        "  main()\n",
        "\n"
      ]
    },
    {
      "cell_type": "code",
      "source": [
        "print(\"Flow of Data Structure\")\n",
        "def add_three_copies(lst, data):\n",
        "    for i in range(3):\n",
        "        lst.append(data)\n",
        "\n",
        "def main():\n",
        "    message = input(\"Enter a message to copy, \")\n",
        "    lst = []\n",
        "    print(\"Before list \", lst)\n",
        "    add_three_copies(lst, message)\n",
        "    print(\"After lst: \", lst)\n",
        "\n",
        "if __name__ == \"__main__\":\n",
        "  main()"
      ],
      "metadata": {
        "colab": {
          "base_uri": "https://localhost:8080/"
        },
        "id": "6eiu6ifcK_Lg",
        "outputId": "53c33f28-c981-47ff-9861-64839f0c8b77"
      },
      "execution_count": 2,
      "outputs": [
        {
          "output_type": "stream",
          "name": "stdout",
          "text": [
            "Flow of Data Structure\n",
            "Enter a message to copy, ghk\n",
            "Before list  []\n",
            "After lst:  ['ghk', 'ghk', 'ghk']\n"
          ]
        }
      ]
    },
    {
      "cell_type": "code",
      "source": [
        "print(\"Double List\")\n",
        "\n",
        "def double():\n",
        "    numbers:list[int] = [1,2,3,4,5]\n",
        "    for i in range(len(numbers)):\n",
        "        index = numbers[i]\n",
        "        numbers[i] = index * 2\n",
        "        print(numbers)\n",
        "\n",
        "if __name__ == \"__main__\":\n",
        "  double()\n"
      ],
      "metadata": {
        "colab": {
          "base_uri": "https://localhost:8080/"
        },
        "id": "n8EPc5-tLHrB",
        "outputId": "b858c90e-6d3e-493d-9e26-b69cced6fea9"
      },
      "execution_count": 3,
      "outputs": [
        {
          "output_type": "stream",
          "name": "stdout",
          "text": [
            "Double List\n",
            "[2, 2, 3, 4, 5]\n",
            "[2, 4, 3, 4, 5]\n",
            "[2, 4, 6, 4, 5]\n",
            "[2, 4, 6, 8, 5]\n",
            "[2, 4, 6, 8, 10]\n"
          ]
        }
      ]
    },
    {
      "cell_type": "code",
      "source": [
        "print(\"Get first element\")\n",
        "\n",
        "def get_first_element(lst):\n",
        "    print(lst[0])\n",
        "\n",
        "def get_lst():\n",
        "    lst = []\n",
        "    elem = input(\"Enter an element to add to your list: \")\n",
        "    while elem != \"\":\n",
        "        lst.append(elem)\n",
        "        elem = input(\"Enter an element to add to your list: \")\n",
        "    return lst\n",
        "\n",
        "def main():\n",
        "    lst = get_lst()\n",
        "    if lst:\n",
        "        get_first_element(lst)\n",
        "    else:\n",
        "        print(\"List is empty. No first element.\")\n",
        "\n",
        "if __name__ == \"__main__\":\n",
        "    main()\n"
      ],
      "metadata": {
        "colab": {
          "base_uri": "https://localhost:8080/"
        },
        "id": "V9YcFj05LPBA",
        "outputId": "55651c70-e27a-48fa-c5bb-334087d2b88c"
      },
      "execution_count": 4,
      "outputs": [
        {
          "output_type": "stream",
          "name": "stdout",
          "text": [
            "Get first element\n",
            "Enter an element to add to your list: 45\n",
            "Enter an element to add to your list: 67\n",
            "Enter an element to add to your list: 56\n",
            "Enter an element to add to your list: \n",
            "45\n"
          ]
        }
      ]
    },
    {
      "cell_type": "code",
      "source": [
        "print(\"Get first element\")\n",
        "\n",
        "def get_last_element(lst):\n",
        "    print(lst[-1])\n",
        "\n",
        "def get_lst():\n",
        "    lst = []\n",
        "    elem = input(\"Enter an element to add to your list: \")\n",
        "    while elem != \"\":\n",
        "        lst.append(elem)\n",
        "        elem = input(\"Enter an element to add to your list: \")\n",
        "    return lst\n",
        "\n",
        "def main():\n",
        "    lst = get_lst()\n",
        "    if lst:\n",
        "        get_last_element(lst)\n",
        "    else:\n",
        "        print(\"List is empty. No first element.\")\n",
        "\n",
        "if __name__ == \"__main__\":\n",
        "    main()\n"
      ],
      "metadata": {
        "colab": {
          "base_uri": "https://localhost:8080/"
        },
        "id": "Czoobz2HLTua",
        "outputId": "7005ebee-2489-40d6-f9d3-5bdefcd13cca"
      },
      "execution_count": 5,
      "outputs": [
        {
          "output_type": "stream",
          "name": "stdout",
          "text": [
            "Get first element\n",
            "Enter an element to add to your list: 43\n",
            "Enter an element to add to your list: 23\n",
            "Enter an element to add to your list: \n",
            "23\n"
          ]
        }
      ]
    },
    {
      "cell_type": "code",
      "source": [
        "print(\"Get List\")\n",
        "def main():\n",
        "    lst = []\n",
        "    val = input(\"Enter a value to add to the list \")\n",
        "    while val:\n",
        "        lst.append(val)\n",
        "        val = input(\"Enter a value to add to the list \")\n",
        "    print(\"Here is the list: \", lst)\n",
        "\n",
        "if __name__ == \"__main__\":\n",
        "    main()\n"
      ],
      "metadata": {
        "colab": {
          "base_uri": "https://localhost:8080/"
        },
        "id": "oAfWwUXMLZ5_",
        "outputId": "20bcbfab-fffb-4c47-f7bb-3497fdd12afa"
      },
      "execution_count": 6,
      "outputs": [
        {
          "output_type": "stream",
          "name": "stdout",
          "text": [
            "Get List\n",
            "Enter a value to add to the list fgh\n",
            "Enter a value to add to the list dfr\n",
            "Enter a value to add to the list \n",
            "Here is the list:  ['fgh', 'dfr']\n"
          ]
        }
      ]
    },
    {
      "cell_type": "code",
      "source": [
        "print(\"shorten\")\n",
        "max_length: int = 3\n",
        "\n",
        "def shorten(lst):\n",
        "    while len(lst) > max_length:\n",
        "        last_element = lst.pop()\n",
        "        print(f\"Popped: {last_element}\")\n",
        "\n",
        "def get_list():\n",
        "    lst = []\n",
        "    element = input(\"Enter an element to add to the list: \")\n",
        "    while element != \"\":\n",
        "        lst.append(element)\n",
        "        element = input(\"Enter an element to add to the list: \")\n",
        "    return lst\n",
        "\n",
        "def main():\n",
        "    lst = get_list()\n",
        "    shorten(lst)\n",
        "    print(\"Final list:\", lst)\n",
        "\n",
        "if __name__ == \"__main__\":\n",
        "    main()\n"
      ],
      "metadata": {
        "colab": {
          "base_uri": "https://localhost:8080/"
        },
        "id": "g_Mh8aGnLgnX",
        "outputId": "839b26a8-14e4-4fff-ec8c-523a2d1e5e03"
      },
      "execution_count": 7,
      "outputs": [
        {
          "output_type": "stream",
          "name": "stdout",
          "text": [
            "shorten\n",
            "Enter an element to add to the list: pakistan\n",
            "Enter an element to add to the list: beautiful\n",
            "Enter an element to add to the list: scenic\n",
            "Enter an element to add to the list: \n",
            "Final list: ['pakistan', 'beautiful', 'scenic']\n"
          ]
        }
      ]
    }
  ]
}