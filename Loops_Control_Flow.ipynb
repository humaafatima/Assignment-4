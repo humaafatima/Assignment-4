{
  "nbformat": 4,
  "nbformat_minor": 0,
  "metadata": {
    "colab": {
      "provenance": [],
      "authorship_tag": "ABX9TyM+GNVpwnLA4dpOiFqXElV+",
      "include_colab_link": true
    },
    "kernelspec": {
      "name": "python3",
      "display_name": "Python 3"
    },
    "language_info": {
      "name": "python"
    }
  },
  "cells": [
    {
      "cell_type": "markdown",
      "metadata": {
        "id": "view-in-github",
        "colab_type": "text"
      },
      "source": [
        "<a href=\"https://colab.research.google.com/github/humaafatima/Assignment-4/blob/main/Loops_Control_Flow.ipynb\" target=\"_parent\"><img src=\"https://colab.research.google.com/assets/colab-badge.svg\" alt=\"Open In Colab\"/></a>"
      ]
    },
    {
      "cell_type": "code",
      "execution_count": 1,
      "metadata": {
        "colab": {
          "base_uri": "https://localhost:8080/"
        },
        "id": "3KMJbzo1iW_z",
        "outputId": "fe2270f2-b192-4ccf-9ee5-0efe8e482b52"
      },
      "outputs": [
        {
          "output_type": "stream",
          "name": "stdout",
          "text": [
            "Guess the number\n",
            "I am thinking of a number between 1 and 100...\n",
            "Enter a guess: 4\n",
            "Your guess is too low\n",
            "Enter a guess: 87\n",
            "Your guess is too high\n",
            "Enter a guess: 73\n",
            "Your guess is too high\n",
            "Enter a guess: 42\n",
            "Your guess is too low\n",
            "Enter a guess: 22\n",
            "Your guess is too low\n",
            "Enter a guess: 54\n",
            "Your guess is too high\n",
            "Enter a guess: 56\n",
            "Your guess is too high\n",
            "Enter a guess: 69\n",
            "Your guess is too high\n",
            "Enter a guess: 55\n",
            "Your guess is too high\n",
            "Enter a guess: 50\n",
            "Your guess is too low\n",
            "Enter a guess: 51\n",
            "Congratulations! The number was 51\n",
            "You got it\n"
          ]
        }
      ],
      "source": [
        "import random\n",
        "\n",
        "print(\"Guess the number\")\n",
        "\n",
        "def main():\n",
        "    secret_number = random.randint(1, 100)\n",
        "    print(\"I am thinking of a number between 1 and 100...\")\n",
        "\n",
        "    guess = int(input(\"Enter a guess: \"))\n",
        "    while guess != secret_number:\n",
        "        if guess < secret_number:\n",
        "            print(\"Your guess is too low\")\n",
        "        else:\n",
        "            print(\"Your guess is too high\")\n",
        "        guess = int(input(\"Enter a guess: \"))\n",
        "\n",
        "    print(f\"Congratulations! The number was {secret_number}\")\n",
        "    print(\"You got it\")\n",
        "\n",
        "if __name__ == \"__main__\":\n",
        "    main()\n"
      ]
    },
    {
      "cell_type": "code",
      "source": [
        "print(\"Fibonacci sequence\")\n",
        "\n",
        "max_value = 10000\n",
        "def main():\n",
        " a, b = 0,1\n",
        " print(a,b, end = \" \")\n",
        "\n",
        " while True:\n",
        "  c = a+b\n",
        "  if c >= max_value:\n",
        "    break\n",
        "  print(c, end = \" \")\n",
        "  a,b = b,c\n",
        "\n",
        "if __name__ == \"__main__\":\n",
        "  main()\n"
      ],
      "metadata": {
        "colab": {
          "base_uri": "https://localhost:8080/"
        },
        "id": "S2RNE3IUxqvR",
        "outputId": "29754628-5020-41a7-9a89-b3ae5a902621"
      },
      "execution_count": 7,
      "outputs": [
        {
          "output_type": "stream",
          "name": "stdout",
          "text": [
            "Fibonacci sequence\n",
            "0 1 1 2 3 5 8 13 21 34 55 89 144 233 377 610 987 1597 2584 4181 6765 "
          ]
        }
      ]
    },
    {
      "cell_type": "code",
      "source": [
        "print(\"Even numbers\")\n",
        "\n",
        "def even_nums():\n",
        "    for i in range(20):\n",
        "        even = i * 2\n",
        "        print(f\"{even} is an even number\")\n",
        "\n",
        "if __name__ == \"__main__\":\n",
        "    even_nums()\n"
      ],
      "metadata": {
        "colab": {
          "base_uri": "https://localhost:8080/"
        },
        "id": "IsHkpDVu4-ID",
        "outputId": "ad500c78-7e37-4326-bbe7-3ef388dcce93"
      },
      "execution_count": 8,
      "outputs": [
        {
          "output_type": "stream",
          "name": "stdout",
          "text": [
            "Even numbers\n",
            "0 is an even number\n",
            "2 is an even number\n",
            "4 is an even number\n",
            "6 is an even number\n",
            "8 is an even number\n",
            "10 is an even number\n",
            "12 is an even number\n",
            "14 is an even number\n",
            "16 is an even number\n",
            "18 is an even number\n",
            "20 is an even number\n",
            "22 is an even number\n",
            "24 is an even number\n",
            "26 is an even number\n",
            "28 is an even number\n",
            "30 is an even number\n",
            "32 is an even number\n",
            "34 is an even number\n",
            "36 is an even number\n",
            "38 is an even number\n"
          ]
        }
      ]
    },
    {
      "cell_type": "code",
      "source": [
        "print(\"Wholesome_Machine\")\n",
        "correct_affirmation = \"I am capable of doing anything I put my mind to\"\n",
        "def main():\n",
        "  print(\"Welcome to Wholesome Machine\")\n",
        "  while True:\n",
        "    user_input = input(\"Please type the following information:\" + correct_affirmation)\n",
        "    if user_input == (correct_affirmation):\n",
        "      print(\"That's absoloutely correct\")\n",
        "      break\n",
        "    else:\n",
        "      print(\"That's not the right affirmation\")\n",
        "\n",
        "if __name__ == \"__main__\":\n",
        "    main()"
      ],
      "metadata": {
        "colab": {
          "base_uri": "https://localhost:8080/"
        },
        "id": "RXofu4YJ-G0l",
        "outputId": "6c60d65e-4808-4da0-c9b6-30ef2c560963"
      },
      "execution_count": 12,
      "outputs": [
        {
          "output_type": "stream",
          "name": "stdout",
          "text": [
            "Wholesome_Machine\n",
            "Welcome to Wholesome Machine\n",
            "Please type the following information:I am capable of doing anything I put my mind tokk\n",
            "That's not the right affirmation\n",
            "Please type the following information:I am capable of doing anything I put my mind toI am capable of doing anything I put my mind to\n",
            "That's absoloutely correct\n"
          ]
        }
      ]
    },
    {
      "cell_type": "code",
      "source": [
        "print(\"Lift off\")\n",
        "\n",
        "def main():\n",
        "  countdown: int  = 10\n",
        "  for i in range(countdown, 0, -1):\n",
        "     print (i)\n",
        "     countdown -= 1\n",
        "  else:\n",
        "      print(\"Lift Off\")\n",
        "\n",
        "if __name__ == \"__main__\":\n",
        "    main()\n",
        "\n"
      ],
      "metadata": {
        "colab": {
          "base_uri": "https://localhost:8080/"
        },
        "id": "S9Wr6mFNMM76",
        "outputId": "46df8197-573e-4592-b638-f702867ac518"
      },
      "execution_count": 21,
      "outputs": [
        {
          "output_type": "stream",
          "name": "stdout",
          "text": [
            "Lift off\n",
            "10\n",
            "9\n",
            "8\n",
            "7\n",
            "6\n",
            "5\n",
            "4\n",
            "3\n",
            "2\n",
            "1\n",
            "Lift Off\n"
          ]
        }
      ]
    },
    {
      "cell_type": "code",
      "source": [
        "print(\"Double the number\")\n",
        "\n",
        "def double():\n",
        "  curr_value = int(input(\"Please enter a number\"))\n",
        "  while curr_value < 100:\n",
        "         curr_value = curr_value * 2\n",
        "         print(curr_value)\n",
        "\n",
        "\n",
        "if __name__ == \"__main__\":\n",
        "    double()"
      ],
      "metadata": {
        "colab": {
          "base_uri": "https://localhost:8080/"
        },
        "id": "l245oVfOU9pu",
        "outputId": "4df92d42-7133-442e-f852-328dc4a15f48"
      },
      "execution_count": 24,
      "outputs": [
        {
          "output_type": "stream",
          "name": "stdout",
          "text": [
            "Double the number\n",
            "Please enter a number4\n",
            "8\n",
            "16\n",
            "32\n",
            "64\n",
            "128\n"
          ]
        }
      ]
    }
  ]
}